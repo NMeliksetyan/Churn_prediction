{
 "cells": [
  {
   "cell_type": "markdown",
   "id": "5fe8fda8",
   "metadata": {},
   "source": [
    "<h1 style=\"color:#032652 ; font-family:'Times New Roman' \">Customer Churn Prediction and Analysis for Krisp </h1>\n"
   ]
  },
  {
   "cell_type": "markdown",
   "id": "f51f9928",
   "metadata": {},
   "source": [
    "<p style=\" color:#032652 ; font-family:'Times New Roman'; font-size: 18px ;text-align: justify \"> <br> This notebook presents a comprehensive machine learning analysis on a pre-processed dataset obtained from the previous analysis notebook. The dataset has been thoroughly cleaned and prepared for further analysis. In this notebook, we will evaluate several machine learning models and conduct hyperparameter tuning for each model. All the models will be trained on the same dataset, enabling us to compare their performance and identify the best model for our specific use case. </p>"
   ]
  },
  {
   "cell_type": "markdown",
   "id": "0f0cb64e",
   "metadata": {},
   "source": [
    "> <p style=\" color:#032652 ; font-family:'Times New Roman'; font-size: 18px ;text-align: justify \"> Loading libraries and data </p>"
   ]
  },
  {
   "cell_type": "code",
   "execution_count": 1,
   "id": "283ce3ee",
   "metadata": {},
   "outputs": [],
   "source": [
    "import pandas as pd\n",
    "import numpy as np\n",
    "import matplotlib.pyplot as plt\n",
    "import seaborn as sns\n",
    "from tabulate import tabulate\n",
    "\n",
    "from sklearn.preprocessing import LabelEncoder, StandardScaler, OneHotEncoder\n",
    "from sklearn.model_selection import train_test_split, cross_val_score, KFold, RepeatedStratifiedKFold, GridSearchCV\n",
    "from sklearn.model_selection import RandomizedSearchCV, GridSearchCV\n",
    "from sklearn.metrics import make_scorer, roc_auc_score\n",
    "from sklearn.metrics import accuracy_score, classification_report, roc_auc_score, roc_curve, precision_score, recall_score, f1_score, confusion_matrix\n",
    "\n",
    "from sklearn.linear_model import LogisticRegression\n",
    "from sklearn.svm import SVC\n",
    "from sklearn.neighbors import KNeighborsClassifier\n",
    "from sklearn.ensemble import RandomForestClassifier, GradientBoostingClassifier\n",
    "from sklearn.tree import DecisionTreeClassifier\n",
    "from xgboost import XGBClassifier\n",
    "from sklearn.ensemble import RandomForestClassifier\n",
    "from sklearn.ensemble import GradientBoostingClassifier\n",
    "from bayes_opt import BayesianOptimization\n",
    "from scipy.stats import randint as sp_randint\n",
    "\n",
    "import warnings\n",
    "warnings.filterwarnings(\"ignore\")"
   ]
  },
  {
   "cell_type": "code",
   "execution_count": 2,
   "id": "700247f2",
   "metadata": {},
   "outputs": [
    {
     "data": {
      "text/html": [
       "<div>\n",
       "<style scoped>\n",
       "    .dataframe tbody tr th:only-of-type {\n",
       "        vertical-align: middle;\n",
       "    }\n",
       "\n",
       "    .dataframe tbody tr th {\n",
       "        vertical-align: top;\n",
       "    }\n",
       "\n",
       "    .dataframe thead th {\n",
       "        text-align: right;\n",
       "    }\n",
       "</style>\n",
       "<table border=\"1\" class=\"dataframe\">\n",
       "  <thead>\n",
       "    <tr style=\"text-align: right;\">\n",
       "      <th></th>\n",
       "      <th>domain category</th>\n",
       "      <th>channel grouping</th>\n",
       "      <th>desktop category</th>\n",
       "      <th>overall nc(mins)</th>\n",
       "      <th>average monthly nc(mins)</th>\n",
       "      <th>tenure</th>\n",
       "      <th>churn</th>\n",
       "      <th>plan interval</th>\n",
       "      <th>payment method</th>\n",
       "      <th>country tier</th>\n",
       "    </tr>\n",
       "  </thead>\n",
       "  <tbody>\n",
       "    <tr>\n",
       "      <th>0</th>\n",
       "      <td>Generic Domain</td>\n",
       "      <td>(Other)</td>\n",
       "      <td>Win</td>\n",
       "      <td>196757.70</td>\n",
       "      <td>7027.05</td>\n",
       "      <td>12.0</td>\n",
       "      <td>No</td>\n",
       "      <td>year</td>\n",
       "      <td>stripe</td>\n",
       "      <td>Tier 2</td>\n",
       "    </tr>\n",
       "    <tr>\n",
       "      <th>1</th>\n",
       "      <td>Generic Domain</td>\n",
       "      <td>Referral</td>\n",
       "      <td>Win</td>\n",
       "      <td>49593.68</td>\n",
       "      <td>3542.40</td>\n",
       "      <td>13.7</td>\n",
       "      <td>No</td>\n",
       "      <td>year</td>\n",
       "      <td>paypal</td>\n",
       "      <td>Tier 1</td>\n",
       "    </tr>\n",
       "    <tr>\n",
       "      <th>2</th>\n",
       "      <td>Generic Domain</td>\n",
       "      <td>Social</td>\n",
       "      <td>Win</td>\n",
       "      <td>226809.67</td>\n",
       "      <td>10309.52</td>\n",
       "      <td>24.0</td>\n",
       "      <td>No</td>\n",
       "      <td>year</td>\n",
       "      <td>stripe</td>\n",
       "      <td>Tier 1</td>\n",
       "    </tr>\n",
       "    <tr>\n",
       "      <th>3</th>\n",
       "      <td>Work Domain</td>\n",
       "      <td>(Other)</td>\n",
       "      <td>Win</td>\n",
       "      <td>20165.22</td>\n",
       "      <td>1120.28</td>\n",
       "      <td>24.3</td>\n",
       "      <td>No</td>\n",
       "      <td>year</td>\n",
       "      <td>stripe</td>\n",
       "      <td>Tier 1</td>\n",
       "    </tr>\n",
       "    <tr>\n",
       "      <th>4</th>\n",
       "      <td>Generic Domain</td>\n",
       "      <td>(Other)</td>\n",
       "      <td>Both</td>\n",
       "      <td>46416.12</td>\n",
       "      <td>1856.63</td>\n",
       "      <td>24.0</td>\n",
       "      <td>No</td>\n",
       "      <td>year</td>\n",
       "      <td>stripe</td>\n",
       "      <td>Tier 2</td>\n",
       "    </tr>\n",
       "  </tbody>\n",
       "</table>\n",
       "</div>"
      ],
      "text/plain": [
       "  domain category channel grouping  desktop category  overall nc(mins)   \n",
       "0  Generic Domain           (Other)              Win         196757.70  \\\n",
       "1  Generic Domain          Referral              Win          49593.68   \n",
       "2  Generic Domain            Social              Win         226809.67   \n",
       "3     Work Domain           (Other)              Win          20165.22   \n",
       "4  Generic Domain           (Other)             Both          46416.12   \n",
       "\n",
       "   average monthly nc(mins)  tenure churn plan interval payment method   \n",
       "0                   7027.05    12.0    No          year         stripe  \\\n",
       "1                   3542.40    13.7    No          year         paypal   \n",
       "2                  10309.52    24.0    No          year         stripe   \n",
       "3                   1120.28    24.3    No          year         stripe   \n",
       "4                   1856.63    24.0    No          year         stripe   \n",
       "\n",
       "  country tier  \n",
       "0       Tier 2  \n",
       "1       Tier 1  \n",
       "2       Tier 1  \n",
       "3       Tier 1  \n",
       "4       Tier 2  "
      ]
     },
     "execution_count": 2,
     "metadata": {},
     "output_type": "execute_result"
    }
   ],
   "source": [
    "# Loading the data into a dataframe \n",
    "churn_data = pd.read_csv(\"cleaned_data.csv\")\n",
    "churn_data_lr = pd.read_csv(\"cleaned_data_lr.csv\")\n",
    "churn_data.head()"
   ]
  },
  {
   "cell_type": "markdown",
   "id": "866d99c3",
   "metadata": {},
   "source": [
    "> <p style=\" color:#032652 ; font-family:'Times New Roman'; font-size: 18px ;text-align: justify \">  Splitting the dataset into dependent and independent variables and generating training and test datasets </p>"
   ]
  },
  {
   "cell_type": "markdown",
   "id": "26038fa3",
   "metadata": {},
   "source": [
    "<p style=\" color:#032652 ; font-family:'Times New Roman'; font-size: 17px ;text-align: justify \"> In order to perform an accurate analysis on the dataset, it is crucial to first separate the dataset into dependent and independent variables. In this specific case, the dependent variable 'Churn' is the target value while the remaining independent variables will be assigned to the X variable. After separating the variables, the dataset will be split into training and testing sets with a standard 80/20 ratio.<br>\n",
    "<br>Once the dataset is divided into X and y values, we will split the data into training and testing sets using an 80/20 ratio. Before proceeding with modeling, it is important to ensure that the categorical variables are transformed into numerical variables. To prevent any potential data leakage, we will use LabelEncoder to transform categorical columns into numerical ones after splitting the data into training and testing sets.<br>\n",
    "    <br>These necessary data preprocessing steps will be applied correspondingly to both normal and logistic regression datasets, ensuring that our models are trained on accurately prepared data.</p>"
   ]
  },
  {
   "cell_type": "code",
   "execution_count": 3,
   "id": "2b5f13a1",
   "metadata": {},
   "outputs": [],
   "source": [
    "# changing churn categorical into numerical\n",
    "churn_data['churn'] = churn_data['churn'].map({'No': 0, 'Yes': 1})\n",
    "churn_data_lr['churn'] = churn_data_lr['churn'].map({'No': 0, 'Yes': 1})"
   ]
  },
  {
   "cell_type": "code",
   "execution_count": 4,
   "id": "b923846f",
   "metadata": {},
   "outputs": [],
   "source": [
    "y = churn_data['churn']\n",
    "X = churn_data.drop('churn', axis= 1)"
   ]
  },
  {
   "cell_type": "code",
   "execution_count": 5,
   "id": "37d07cd5",
   "metadata": {},
   "outputs": [],
   "source": [
    "y_lr = churn_data_lr['churn']\n",
    "X_lr = churn_data_lr.drop('churn', axis= 1)\n"
   ]
  },
  {
   "cell_type": "code",
   "execution_count": 6,
   "id": "60c760cf",
   "metadata": {},
   "outputs": [
    {
     "name": "stdout",
     "output_type": "stream",
     "text": [
      "The shape of the X_train dataset:  (58715, 9)\n",
      "The shape of the y_train dataset:  (58715,)\n",
      "The shape of the X_test dataset:  (14679, 9)\n",
      "The shape of the y_test dataset:  (14679,)\n"
     ]
    }
   ],
   "source": [
    "X_train, X_test, y_train, y_test = train_test_split(X, y, test_size= 0.2, stratify= y, random_state= 0)\n",
    "\n",
    "print(\"The shape of the X_train dataset: \", X_train.shape)\n",
    "print(\"The shape of the y_train dataset: \", y_train.shape)\n",
    "print(\"The shape of the X_test dataset: \", X_test.shape)\n",
    "print(\"The shape of the y_test dataset: \", y_test.shape)"
   ]
  },
  {
   "cell_type": "code",
   "execution_count": 7,
   "id": "e4b84406",
   "metadata": {},
   "outputs": [],
   "source": [
    "X_train_lr, X_test_lr, y_train_lr, y_test_lr = train_test_split(X_lr, y_lr, test_size= 0.2, stratify= y_lr, random_state= 0)"
   ]
  },
  {
   "cell_type": "code",
   "execution_count": 8,
   "id": "31ee75d1",
   "metadata": {},
   "outputs": [],
   "source": [
    "#identifying categorical columns \n",
    "categorical_cols = X_train.select_dtypes(exclude=np.number).columns\n",
    "\n",
    "#initializing an empty dictionary to store LabelEncoder instances for each categorical column.\n",
    "encoders = {}\n",
    "\n",
    "for i in categorical_cols:\n",
    "    encoders[i] = LabelEncoder()\n",
    "    X_train[i] = encoders[i].fit_transform(X_train[i])\n",
    "    \n",
    "for i in categorical_cols:\n",
    "    X_test[i] = encoders[i].transform(X_test[i])"
   ]
  },
  {
   "cell_type": "code",
   "execution_count": 9,
   "id": "f14a521a",
   "metadata": {},
   "outputs": [],
   "source": [
    "categorical_cols_lr = X_train_lr.select_dtypes(exclude=np.number).columns\n",
    "encoders = {}\n",
    "for i in categorical_cols_lr:\n",
    "    encoders[i] = LabelEncoder()\n",
    "    X_train_lr[i] = encoders[i].fit_transform(X_train_lr[i])\n",
    "    \n",
    "for i in categorical_cols_lr:\n",
    "    X_test_lr[i] = encoders[i].transform(X_test_lr[i])"
   ]
  },
  {
   "cell_type": "markdown",
   "id": "e5849171",
   "metadata": {},
   "source": [
    "> <p style=\" color:#032652 ; font-family:'Times New Roman'; font-size: 18px ;text-align: justify \"> Feature Scaling </p>"
   ]
  },
  {
   "cell_type": "markdown",
   "id": "63a5fecf",
   "metadata": {},
   "source": [
    "<p style=\" color:#032652 ; font-family:'Times New Roman'; font-size: 17px ;text-align: justify \">It’s quite important to normalize the variables before conducting any machine learning (classification) algorithms so that all the training and test variables are scaled within a range of 0 to 1.</p>"
   ]
  },
  {
   "cell_type": "code",
   "execution_count": 10,
   "id": "11eb84d0",
   "metadata": {},
   "outputs": [],
   "source": [
    "sc = StandardScaler()"
   ]
  },
  {
   "cell_type": "code",
   "execution_count": 11,
   "id": "5fc96c23",
   "metadata": {},
   "outputs": [],
   "source": [
    "X_train = sc.fit_transform(X_train)\n",
    "X_test = sc.fit_transform(X_test)"
   ]
  },
  {
   "cell_type": "code",
   "execution_count": 12,
   "id": "8410044f",
   "metadata": {},
   "outputs": [],
   "source": [
    "X_train_lr = sc.fit_transform(X_train_lr)\n",
    "X_test_lr = sc.fit_transform(X_test)"
   ]
  },
  {
   "cell_type": "markdown",
   "id": "0ae1bba2",
   "metadata": {},
   "source": [
    "> <p style=\" color:#032652 ; font-family:'Times New Roman'; font-size: 18px ;text-align: justify \">Logistic Regression </p>"
   ]
  },
  {
   "cell_type": "markdown",
   "id": "10259005",
   "metadata": {},
   "source": [
    "<p style=\" color:#032652 ; font-family:'Times New Roman'; font-size: 17px ;text-align: justify \"> Logistic regression  works by modeling the relationship between the input features and the probability of belonging to a particular class. The output is a probability estimate between 0 and 1, which can be thresholded to make binary predictions.<br>\n",
    "    <br> Grid search hyper parameter tuning is used to find the optimal combination of hyperparameters for a model, which can improve its performance. Logistic regression has several hyperparameters, such as the regularization parameter and the solver algorithm, that can affect its accuracy and generalization ability. By using grid search, we can exhaustively search through a range of hyperparameters and select the best combination that maximizes a performance metrics. This helps to avoid the risk of overfitting to the training set or underfitting to the test set, and can lead to a more robust and accurate model.<p>"
   ]
  },
  {
   "cell_type": "code",
   "execution_count": 13,
   "id": "65ab47c9",
   "metadata": {},
   "outputs": [],
   "source": [
    "model = LogisticRegression()"
   ]
  },
  {
   "cell_type": "code",
   "execution_count": 14,
   "id": "f4f05bb8",
   "metadata": {},
   "outputs": [],
   "source": [
    "# Define the hyperparameters to tune\n",
    "hyperparameters = {'penalty': ['l1', 'l2', 'elasticnet', 'none'],\n",
    "                   'C': [0.001, 0.01, 0.1, 1, 10, 100, 1000],\n",
    "                   'solver': ['newton-cg', 'lbfgs', 'liblinear', 'sag', 'saga'],\n",
    "                   'max_iter': [100, 500, 1000, 5000]}\n"
   ]
  },
  {
   "cell_type": "code",
   "execution_count": 16,
   "id": "77fb63b5",
   "metadata": {},
   "outputs": [],
   "source": [
    "# Create the GridSearchCV object\n",
    "cv = RepeatedStratifiedKFold(n_splits=10, n_repeats=3, random_state=1)\n",
    "grid_search = GridSearchCV(model, hyperparameters, cv=cv, verbose=0, scoring='f1')\n"
   ]
  },
  {
   "cell_type": "code",
   "execution_count": 17,
   "id": "3350265b",
   "metadata": {},
   "outputs": [
    {
     "data": {
      "text/html": [
       "<style>#sk-container-id-1 {color: black;background-color: white;}#sk-container-id-1 pre{padding: 0;}#sk-container-id-1 div.sk-toggleable {background-color: white;}#sk-container-id-1 label.sk-toggleable__label {cursor: pointer;display: block;width: 100%;margin-bottom: 0;padding: 0.3em;box-sizing: border-box;text-align: center;}#sk-container-id-1 label.sk-toggleable__label-arrow:before {content: \"▸\";float: left;margin-right: 0.25em;color: #696969;}#sk-container-id-1 label.sk-toggleable__label-arrow:hover:before {color: black;}#sk-container-id-1 div.sk-estimator:hover label.sk-toggleable__label-arrow:before {color: black;}#sk-container-id-1 div.sk-toggleable__content {max-height: 0;max-width: 0;overflow: hidden;text-align: left;background-color: #f0f8ff;}#sk-container-id-1 div.sk-toggleable__content pre {margin: 0.2em;color: black;border-radius: 0.25em;background-color: #f0f8ff;}#sk-container-id-1 input.sk-toggleable__control:checked~div.sk-toggleable__content {max-height: 200px;max-width: 100%;overflow: auto;}#sk-container-id-1 input.sk-toggleable__control:checked~label.sk-toggleable__label-arrow:before {content: \"▾\";}#sk-container-id-1 div.sk-estimator input.sk-toggleable__control:checked~label.sk-toggleable__label {background-color: #d4ebff;}#sk-container-id-1 div.sk-label input.sk-toggleable__control:checked~label.sk-toggleable__label {background-color: #d4ebff;}#sk-container-id-1 input.sk-hidden--visually {border: 0;clip: rect(1px 1px 1px 1px);clip: rect(1px, 1px, 1px, 1px);height: 1px;margin: -1px;overflow: hidden;padding: 0;position: absolute;width: 1px;}#sk-container-id-1 div.sk-estimator {font-family: monospace;background-color: #f0f8ff;border: 1px dotted black;border-radius: 0.25em;box-sizing: border-box;margin-bottom: 0.5em;}#sk-container-id-1 div.sk-estimator:hover {background-color: #d4ebff;}#sk-container-id-1 div.sk-parallel-item::after {content: \"\";width: 100%;border-bottom: 1px solid gray;flex-grow: 1;}#sk-container-id-1 div.sk-label:hover label.sk-toggleable__label {background-color: #d4ebff;}#sk-container-id-1 div.sk-serial::before {content: \"\";position: absolute;border-left: 1px solid gray;box-sizing: border-box;top: 0;bottom: 0;left: 50%;z-index: 0;}#sk-container-id-1 div.sk-serial {display: flex;flex-direction: column;align-items: center;background-color: white;padding-right: 0.2em;padding-left: 0.2em;position: relative;}#sk-container-id-1 div.sk-item {position: relative;z-index: 1;}#sk-container-id-1 div.sk-parallel {display: flex;align-items: stretch;justify-content: center;background-color: white;position: relative;}#sk-container-id-1 div.sk-item::before, #sk-container-id-1 div.sk-parallel-item::before {content: \"\";position: absolute;border-left: 1px solid gray;box-sizing: border-box;top: 0;bottom: 0;left: 50%;z-index: -1;}#sk-container-id-1 div.sk-parallel-item {display: flex;flex-direction: column;z-index: 1;position: relative;background-color: white;}#sk-container-id-1 div.sk-parallel-item:first-child::after {align-self: flex-end;width: 50%;}#sk-container-id-1 div.sk-parallel-item:last-child::after {align-self: flex-start;width: 50%;}#sk-container-id-1 div.sk-parallel-item:only-child::after {width: 0;}#sk-container-id-1 div.sk-dashed-wrapped {border: 1px dashed gray;margin: 0 0.4em 0.5em 0.4em;box-sizing: border-box;padding-bottom: 0.4em;background-color: white;}#sk-container-id-1 div.sk-label label {font-family: monospace;font-weight: bold;display: inline-block;line-height: 1.2em;}#sk-container-id-1 div.sk-label-container {text-align: center;}#sk-container-id-1 div.sk-container {/* jupyter's `normalize.less` sets `[hidden] { display: none; }` but bootstrap.min.css set `[hidden] { display: none !important; }` so we also need the `!important` here to be able to override the default hidden behavior on the sphinx rendered scikit-learn.org. See: https://github.com/scikit-learn/scikit-learn/issues/21755 */display: inline-block !important;position: relative;}#sk-container-id-1 div.sk-text-repr-fallback {display: none;}</style><div id=\"sk-container-id-1\" class=\"sk-top-container\"><div class=\"sk-text-repr-fallback\"><pre>GridSearchCV(cv=RepeatedStratifiedKFold(n_repeats=3, n_splits=10, random_state=1),\n",
       "             estimator=LogisticRegression(),\n",
       "             param_grid={&#x27;C&#x27;: [0.001, 0.01, 0.1, 1, 10, 100, 1000],\n",
       "                         &#x27;max_iter&#x27;: [100, 500, 1000, 5000],\n",
       "                         &#x27;penalty&#x27;: [&#x27;l1&#x27;, &#x27;l2&#x27;, &#x27;elasticnet&#x27;, &#x27;none&#x27;],\n",
       "                         &#x27;solver&#x27;: [&#x27;newton-cg&#x27;, &#x27;lbfgs&#x27;, &#x27;liblinear&#x27;, &#x27;sag&#x27;,\n",
       "                                    &#x27;saga&#x27;]},\n",
       "             scoring=&#x27;f1&#x27;)</pre><b>In a Jupyter environment, please rerun this cell to show the HTML representation or trust the notebook. <br />On GitHub, the HTML representation is unable to render, please try loading this page with nbviewer.org.</b></div><div class=\"sk-container\" hidden><div class=\"sk-item sk-dashed-wrapped\"><div class=\"sk-label-container\"><div class=\"sk-label sk-toggleable\"><input class=\"sk-toggleable__control sk-hidden--visually\" id=\"sk-estimator-id-1\" type=\"checkbox\" ><label for=\"sk-estimator-id-1\" class=\"sk-toggleable__label sk-toggleable__label-arrow\">GridSearchCV</label><div class=\"sk-toggleable__content\"><pre>GridSearchCV(cv=RepeatedStratifiedKFold(n_repeats=3, n_splits=10, random_state=1),\n",
       "             estimator=LogisticRegression(),\n",
       "             param_grid={&#x27;C&#x27;: [0.001, 0.01, 0.1, 1, 10, 100, 1000],\n",
       "                         &#x27;max_iter&#x27;: [100, 500, 1000, 5000],\n",
       "                         &#x27;penalty&#x27;: [&#x27;l1&#x27;, &#x27;l2&#x27;, &#x27;elasticnet&#x27;, &#x27;none&#x27;],\n",
       "                         &#x27;solver&#x27;: [&#x27;newton-cg&#x27;, &#x27;lbfgs&#x27;, &#x27;liblinear&#x27;, &#x27;sag&#x27;,\n",
       "                                    &#x27;saga&#x27;]},\n",
       "             scoring=&#x27;f1&#x27;)</pre></div></div></div><div class=\"sk-parallel\"><div class=\"sk-parallel-item\"><div class=\"sk-item\"><div class=\"sk-label-container\"><div class=\"sk-label sk-toggleable\"><input class=\"sk-toggleable__control sk-hidden--visually\" id=\"sk-estimator-id-2\" type=\"checkbox\" ><label for=\"sk-estimator-id-2\" class=\"sk-toggleable__label sk-toggleable__label-arrow\">estimator: LogisticRegression</label><div class=\"sk-toggleable__content\"><pre>LogisticRegression()</pre></div></div></div><div class=\"sk-serial\"><div class=\"sk-item\"><div class=\"sk-estimator sk-toggleable\"><input class=\"sk-toggleable__control sk-hidden--visually\" id=\"sk-estimator-id-3\" type=\"checkbox\" ><label for=\"sk-estimator-id-3\" class=\"sk-toggleable__label sk-toggleable__label-arrow\">LogisticRegression</label><div class=\"sk-toggleable__content\"><pre>LogisticRegression()</pre></div></div></div></div></div></div></div></div></div></div>"
      ],
      "text/plain": [
       "GridSearchCV(cv=RepeatedStratifiedKFold(n_repeats=3, n_splits=10, random_state=1),\n",
       "             estimator=LogisticRegression(),\n",
       "             param_grid={'C': [0.001, 0.01, 0.1, 1, 10, 100, 1000],\n",
       "                         'max_iter': [100, 500, 1000, 5000],\n",
       "                         'penalty': ['l1', 'l2', 'elasticnet', 'none'],\n",
       "                         'solver': ['newton-cg', 'lbfgs', 'liblinear', 'sag',\n",
       "                                    'saga']},\n",
       "             scoring='f1')"
      ]
     },
     "execution_count": 17,
     "metadata": {},
     "output_type": "execute_result"
    }
   ],
   "source": [
    "# Fit the GridSearchCV object to the data\n",
    "grid_search.fit(X_train_lr, y_train_lr)\n"
   ]
  },
  {
   "cell_type": "code",
   "execution_count": 18,
   "id": "b00612bc",
   "metadata": {},
   "outputs": [
    {
     "name": "stdout",
     "output_type": "stream",
     "text": [
      "Best hyperparameters:  {'C': 1000, 'max_iter': 1000, 'penalty': 'l1', 'solver': 'saga'}\n"
     ]
    }
   ],
   "source": [
    "# Print the best hyperparameters\n",
    "print(\"Best hyperparameters: \", grid_search.best_params_)"
   ]
  },
  {
   "cell_type": "code",
   "execution_count": 19,
   "id": "369ed590",
   "metadata": {},
   "outputs": [
    {
     "data": {
      "text/html": [
       "<style>#sk-container-id-2 {color: black;background-color: white;}#sk-container-id-2 pre{padding: 0;}#sk-container-id-2 div.sk-toggleable {background-color: white;}#sk-container-id-2 label.sk-toggleable__label {cursor: pointer;display: block;width: 100%;margin-bottom: 0;padding: 0.3em;box-sizing: border-box;text-align: center;}#sk-container-id-2 label.sk-toggleable__label-arrow:before {content: \"▸\";float: left;margin-right: 0.25em;color: #696969;}#sk-container-id-2 label.sk-toggleable__label-arrow:hover:before {color: black;}#sk-container-id-2 div.sk-estimator:hover label.sk-toggleable__label-arrow:before {color: black;}#sk-container-id-2 div.sk-toggleable__content {max-height: 0;max-width: 0;overflow: hidden;text-align: left;background-color: #f0f8ff;}#sk-container-id-2 div.sk-toggleable__content pre {margin: 0.2em;color: black;border-radius: 0.25em;background-color: #f0f8ff;}#sk-container-id-2 input.sk-toggleable__control:checked~div.sk-toggleable__content {max-height: 200px;max-width: 100%;overflow: auto;}#sk-container-id-2 input.sk-toggleable__control:checked~label.sk-toggleable__label-arrow:before {content: \"▾\";}#sk-container-id-2 div.sk-estimator input.sk-toggleable__control:checked~label.sk-toggleable__label {background-color: #d4ebff;}#sk-container-id-2 div.sk-label input.sk-toggleable__control:checked~label.sk-toggleable__label {background-color: #d4ebff;}#sk-container-id-2 input.sk-hidden--visually {border: 0;clip: rect(1px 1px 1px 1px);clip: rect(1px, 1px, 1px, 1px);height: 1px;margin: -1px;overflow: hidden;padding: 0;position: absolute;width: 1px;}#sk-container-id-2 div.sk-estimator {font-family: monospace;background-color: #f0f8ff;border: 1px dotted black;border-radius: 0.25em;box-sizing: border-box;margin-bottom: 0.5em;}#sk-container-id-2 div.sk-estimator:hover {background-color: #d4ebff;}#sk-container-id-2 div.sk-parallel-item::after {content: \"\";width: 100%;border-bottom: 1px solid gray;flex-grow: 1;}#sk-container-id-2 div.sk-label:hover label.sk-toggleable__label {background-color: #d4ebff;}#sk-container-id-2 div.sk-serial::before {content: \"\";position: absolute;border-left: 1px solid gray;box-sizing: border-box;top: 0;bottom: 0;left: 50%;z-index: 0;}#sk-container-id-2 div.sk-serial {display: flex;flex-direction: column;align-items: center;background-color: white;padding-right: 0.2em;padding-left: 0.2em;position: relative;}#sk-container-id-2 div.sk-item {position: relative;z-index: 1;}#sk-container-id-2 div.sk-parallel {display: flex;align-items: stretch;justify-content: center;background-color: white;position: relative;}#sk-container-id-2 div.sk-item::before, #sk-container-id-2 div.sk-parallel-item::before {content: \"\";position: absolute;border-left: 1px solid gray;box-sizing: border-box;top: 0;bottom: 0;left: 50%;z-index: -1;}#sk-container-id-2 div.sk-parallel-item {display: flex;flex-direction: column;z-index: 1;position: relative;background-color: white;}#sk-container-id-2 div.sk-parallel-item:first-child::after {align-self: flex-end;width: 50%;}#sk-container-id-2 div.sk-parallel-item:last-child::after {align-self: flex-start;width: 50%;}#sk-container-id-2 div.sk-parallel-item:only-child::after {width: 0;}#sk-container-id-2 div.sk-dashed-wrapped {border: 1px dashed gray;margin: 0 0.4em 0.5em 0.4em;box-sizing: border-box;padding-bottom: 0.4em;background-color: white;}#sk-container-id-2 div.sk-label label {font-family: monospace;font-weight: bold;display: inline-block;line-height: 1.2em;}#sk-container-id-2 div.sk-label-container {text-align: center;}#sk-container-id-2 div.sk-container {/* jupyter's `normalize.less` sets `[hidden] { display: none; }` but bootstrap.min.css set `[hidden] { display: none !important; }` so we also need the `!important` here to be able to override the default hidden behavior on the sphinx rendered scikit-learn.org. See: https://github.com/scikit-learn/scikit-learn/issues/21755 */display: inline-block !important;position: relative;}#sk-container-id-2 div.sk-text-repr-fallback {display: none;}</style><div id=\"sk-container-id-2\" class=\"sk-top-container\"><div class=\"sk-text-repr-fallback\"><pre>LogisticRegression(C=1000, max_iter=1000, penalty=&#x27;l1&#x27;, solver=&#x27;saga&#x27;)</pre><b>In a Jupyter environment, please rerun this cell to show the HTML representation or trust the notebook. <br />On GitHub, the HTML representation is unable to render, please try loading this page with nbviewer.org.</b></div><div class=\"sk-container\" hidden><div class=\"sk-item\"><div class=\"sk-estimator sk-toggleable\"><input class=\"sk-toggleable__control sk-hidden--visually\" id=\"sk-estimator-id-4\" type=\"checkbox\" checked><label for=\"sk-estimator-id-4\" class=\"sk-toggleable__label sk-toggleable__label-arrow\">LogisticRegression</label><div class=\"sk-toggleable__content\"><pre>LogisticRegression(C=1000, max_iter=1000, penalty=&#x27;l1&#x27;, solver=&#x27;saga&#x27;)</pre></div></div></div></div></div>"
      ],
      "text/plain": [
       "LogisticRegression(C=1000, max_iter=1000, penalty='l1', solver='saga')"
      ]
     },
     "execution_count": 19,
     "metadata": {},
     "output_type": "execute_result"
    }
   ],
   "source": [
    "# create a new instance of the model with the best hyperparameters and fit it to the entire training dataset\n",
    "best_model = LogisticRegression(**grid_search.best_params_)\n",
    "best_model.fit(X_train, y_train)\n"
   ]
  },
  {
   "cell_type": "code",
   "execution_count": 20,
   "id": "811c9975",
   "metadata": {
    "scrolled": true
   },
   "outputs": [
    {
     "name": "stdout",
     "output_type": "stream",
     "text": [
      "Accuracy: 0.7717146944614756\n",
      "Classification report:               precision    recall  f1-score   support\n",
      "\n",
      "           0       0.80      0.88      0.84      9767\n",
      "           1       0.70      0.57      0.62      4912\n",
      "\n",
      "    accuracy                           0.77     14679\n",
      "   macro avg       0.75      0.72      0.73     14679\n",
      "weighted avg       0.77      0.77      0.77     14679\n",
      "\n",
      "ROC AUC score: 0.7206270412500512\n"
     ]
    }
   ],
   "source": [
    "# make predictions on the test dataset and evaluate the model's performance\n",
    "y_pred = best_model.predict(X_test)\n",
    "print('Accuracy:', accuracy_score(y_test, y_pred))\n",
    "print('Classification report:', classification_report(y_test, y_pred))\n",
    "print('ROC AUC score:', roc_auc_score(y_test, y_pred))"
   ]
  },
  {
   "cell_type": "markdown",
   "id": "7c7fb3e6",
   "metadata": {},
   "source": [
    "<p style=\" color:#032652 ; font-family:'Times New Roman'; font-size: 17px ;text-align: justify \">Precision: The precision of the model for the non-churned class is 0.80, indicating that out of all the positive predictions made by the model for non-churned customers, 80% of them are actually true positive. For the churned class, the precision is 0.70, meaning that when the model predicts a positive outcome for churned customers, it is correct 70% of the time.<br>\n",
    "    <br>Recall: The recall of the model for the non-churned class is 0.88, which implies that the model correctly identifies 88% of all actual positive instances in the dataset for non-churned customers. However, for churned customers, the recall is only 0.57, indicating that the model is unable to identify 43% of churned customers.<br>\n",
    "    <br> F1-score: The F1-score for the positive class (non-churned) is 0.84, which is a harmonic mean of precision and recall. For the negative class (churned), the F1-score is 0.62. The F1 score measures the model's balance between precision and recall. The score of 0.84 for non-churned customers is good, but the score of 0.62 for churned customers is not optimal. <br> ROC curves with an AUC ≤0.75 are not considered clinically useful.</p>"
   ]
  },
  {
   "cell_type": "markdown",
   "id": "f696a5a2",
   "metadata": {},
   "source": [
    "> <p style=\" color:#032652 ; font-family:'Times New Roman'; font-size: 18px ;text-align: justify \">Random Forest</p>"
   ]
  },
  {
   "cell_type": "markdown",
   "id": "9355c11e",
   "metadata": {},
   "source": [
    " <p style=\" color:#032652 ; font-family:'Times New Roman'; font-size: 17px ;text-align: justify \">Random Forest is an ensemble learning method that combines multiple decision trees to improve the overall performance of the model.Compared to Grid Search, Randomized Search can search a larger space of hyperparameters in a shorter time. This is particularly useful for Random Forest Classifier, which has many hyperparameters that need to be tuned.</p>"
   ]
  },
  {
   "cell_type": "code",
   "execution_count": 15,
   "id": "11059a16",
   "metadata": {},
   "outputs": [],
   "source": [
    "# Create a Random Forest Classifier object\n",
    "rf = RandomForestClassifier()"
   ]
  },
  {
   "cell_type": "code",
   "execution_count": 16,
   "id": "9258c30a",
   "metadata": {},
   "outputs": [],
   "source": [
    "# Define the hyperparameter space to search\n",
    "param_dist = {'n_estimators': sp_randint(50, 500), # Number of trees in random forest\n",
    "              'max_features': sp_randint(1, 10), # Number of features to consider at every split\n",
    "              'max_depth': sp_randint(1, 20), # Maximum number of levels in tree\n",
    "              'min_samples_split': sp_randint(2, 20), # Minimum number of samples required to split a node\n",
    "              'min_samples_leaf': sp_randint(1, 20), # Minimum number of samples required at each leaf node\n",
    "             'bootstrap' : [True, False]} # Method of selecting samples for training each tree"
   ]
  },
  {
   "cell_type": "code",
   "execution_count": 17,
   "id": "b1f5edfe",
   "metadata": {},
   "outputs": [
    {
     "data": {
      "text/html": [
       "<style>#sk-container-id-1 {color: black;background-color: white;}#sk-container-id-1 pre{padding: 0;}#sk-container-id-1 div.sk-toggleable {background-color: white;}#sk-container-id-1 label.sk-toggleable__label {cursor: pointer;display: block;width: 100%;margin-bottom: 0;padding: 0.3em;box-sizing: border-box;text-align: center;}#sk-container-id-1 label.sk-toggleable__label-arrow:before {content: \"▸\";float: left;margin-right: 0.25em;color: #696969;}#sk-container-id-1 label.sk-toggleable__label-arrow:hover:before {color: black;}#sk-container-id-1 div.sk-estimator:hover label.sk-toggleable__label-arrow:before {color: black;}#sk-container-id-1 div.sk-toggleable__content {max-height: 0;max-width: 0;overflow: hidden;text-align: left;background-color: #f0f8ff;}#sk-container-id-1 div.sk-toggleable__content pre {margin: 0.2em;color: black;border-radius: 0.25em;background-color: #f0f8ff;}#sk-container-id-1 input.sk-toggleable__control:checked~div.sk-toggleable__content {max-height: 200px;max-width: 100%;overflow: auto;}#sk-container-id-1 input.sk-toggleable__control:checked~label.sk-toggleable__label-arrow:before {content: \"▾\";}#sk-container-id-1 div.sk-estimator input.sk-toggleable__control:checked~label.sk-toggleable__label {background-color: #d4ebff;}#sk-container-id-1 div.sk-label input.sk-toggleable__control:checked~label.sk-toggleable__label {background-color: #d4ebff;}#sk-container-id-1 input.sk-hidden--visually {border: 0;clip: rect(1px 1px 1px 1px);clip: rect(1px, 1px, 1px, 1px);height: 1px;margin: -1px;overflow: hidden;padding: 0;position: absolute;width: 1px;}#sk-container-id-1 div.sk-estimator {font-family: monospace;background-color: #f0f8ff;border: 1px dotted black;border-radius: 0.25em;box-sizing: border-box;margin-bottom: 0.5em;}#sk-container-id-1 div.sk-estimator:hover {background-color: #d4ebff;}#sk-container-id-1 div.sk-parallel-item::after {content: \"\";width: 100%;border-bottom: 1px solid gray;flex-grow: 1;}#sk-container-id-1 div.sk-label:hover label.sk-toggleable__label {background-color: #d4ebff;}#sk-container-id-1 div.sk-serial::before {content: \"\";position: absolute;border-left: 1px solid gray;box-sizing: border-box;top: 0;bottom: 0;left: 50%;z-index: 0;}#sk-container-id-1 div.sk-serial {display: flex;flex-direction: column;align-items: center;background-color: white;padding-right: 0.2em;padding-left: 0.2em;position: relative;}#sk-container-id-1 div.sk-item {position: relative;z-index: 1;}#sk-container-id-1 div.sk-parallel {display: flex;align-items: stretch;justify-content: center;background-color: white;position: relative;}#sk-container-id-1 div.sk-item::before, #sk-container-id-1 div.sk-parallel-item::before {content: \"\";position: absolute;border-left: 1px solid gray;box-sizing: border-box;top: 0;bottom: 0;left: 50%;z-index: -1;}#sk-container-id-1 div.sk-parallel-item {display: flex;flex-direction: column;z-index: 1;position: relative;background-color: white;}#sk-container-id-1 div.sk-parallel-item:first-child::after {align-self: flex-end;width: 50%;}#sk-container-id-1 div.sk-parallel-item:last-child::after {align-self: flex-start;width: 50%;}#sk-container-id-1 div.sk-parallel-item:only-child::after {width: 0;}#sk-container-id-1 div.sk-dashed-wrapped {border: 1px dashed gray;margin: 0 0.4em 0.5em 0.4em;box-sizing: border-box;padding-bottom: 0.4em;background-color: white;}#sk-container-id-1 div.sk-label label {font-family: monospace;font-weight: bold;display: inline-block;line-height: 1.2em;}#sk-container-id-1 div.sk-label-container {text-align: center;}#sk-container-id-1 div.sk-container {/* jupyter's `normalize.less` sets `[hidden] { display: none; }` but bootstrap.min.css set `[hidden] { display: none !important; }` so we also need the `!important` here to be able to override the default hidden behavior on the sphinx rendered scikit-learn.org. See: https://github.com/scikit-learn/scikit-learn/issues/21755 */display: inline-block !important;position: relative;}#sk-container-id-1 div.sk-text-repr-fallback {display: none;}</style><div id=\"sk-container-id-1\" class=\"sk-top-container\"><div class=\"sk-text-repr-fallback\"><pre>RandomizedSearchCV(cv=5, estimator=RandomForestClassifier(), n_iter=30,\n",
       "                   n_jobs=-1,\n",
       "                   param_distributions={&#x27;bootstrap&#x27;: [True, False],\n",
       "                                        &#x27;max_depth&#x27;: &lt;scipy.stats._distn_infrastructure.rv_discrete_frozen object at 0x14926f3a0&gt;,\n",
       "                                        &#x27;max_features&#x27;: &lt;scipy.stats._distn_infrastructure.rv_discrete_frozen object at 0x10846b6d0&gt;,\n",
       "                                        &#x27;min_samples_leaf&#x27;: &lt;scipy.stats._distn_infrastructure.rv_discrete_frozen object at 0x14926fe80&gt;,\n",
       "                                        &#x27;min_samples_split&#x27;: &lt;scipy.stats._distn_infrastructure.rv_discrete_frozen object at 0x14926e320&gt;,\n",
       "                                        &#x27;n_estimators&#x27;: &lt;scipy.stats._distn_infrastructure.rv_discrete_frozen object at 0x14926f7c0&gt;},\n",
       "                   random_state=42)</pre><b>In a Jupyter environment, please rerun this cell to show the HTML representation or trust the notebook. <br />On GitHub, the HTML representation is unable to render, please try loading this page with nbviewer.org.</b></div><div class=\"sk-container\" hidden><div class=\"sk-item sk-dashed-wrapped\"><div class=\"sk-label-container\"><div class=\"sk-label sk-toggleable\"><input class=\"sk-toggleable__control sk-hidden--visually\" id=\"sk-estimator-id-1\" type=\"checkbox\" ><label for=\"sk-estimator-id-1\" class=\"sk-toggleable__label sk-toggleable__label-arrow\">RandomizedSearchCV</label><div class=\"sk-toggleable__content\"><pre>RandomizedSearchCV(cv=5, estimator=RandomForestClassifier(), n_iter=30,\n",
       "                   n_jobs=-1,\n",
       "                   param_distributions={&#x27;bootstrap&#x27;: [True, False],\n",
       "                                        &#x27;max_depth&#x27;: &lt;scipy.stats._distn_infrastructure.rv_discrete_frozen object at 0x14926f3a0&gt;,\n",
       "                                        &#x27;max_features&#x27;: &lt;scipy.stats._distn_infrastructure.rv_discrete_frozen object at 0x10846b6d0&gt;,\n",
       "                                        &#x27;min_samples_leaf&#x27;: &lt;scipy.stats._distn_infrastructure.rv_discrete_frozen object at 0x14926fe80&gt;,\n",
       "                                        &#x27;min_samples_split&#x27;: &lt;scipy.stats._distn_infrastructure.rv_discrete_frozen object at 0x14926e320&gt;,\n",
       "                                        &#x27;n_estimators&#x27;: &lt;scipy.stats._distn_infrastructure.rv_discrete_frozen object at 0x14926f7c0&gt;},\n",
       "                   random_state=42)</pre></div></div></div><div class=\"sk-parallel\"><div class=\"sk-parallel-item\"><div class=\"sk-item\"><div class=\"sk-label-container\"><div class=\"sk-label sk-toggleable\"><input class=\"sk-toggleable__control sk-hidden--visually\" id=\"sk-estimator-id-2\" type=\"checkbox\" ><label for=\"sk-estimator-id-2\" class=\"sk-toggleable__label sk-toggleable__label-arrow\">estimator: RandomForestClassifier</label><div class=\"sk-toggleable__content\"><pre>RandomForestClassifier()</pre></div></div></div><div class=\"sk-serial\"><div class=\"sk-item\"><div class=\"sk-estimator sk-toggleable\"><input class=\"sk-toggleable__control sk-hidden--visually\" id=\"sk-estimator-id-3\" type=\"checkbox\" ><label for=\"sk-estimator-id-3\" class=\"sk-toggleable__label sk-toggleable__label-arrow\">RandomForestClassifier</label><div class=\"sk-toggleable__content\"><pre>RandomForestClassifier()</pre></div></div></div></div></div></div></div></div></div></div>"
      ],
      "text/plain": [
       "RandomizedSearchCV(cv=5, estimator=RandomForestClassifier(), n_iter=30,\n",
       "                   n_jobs=-1,\n",
       "                   param_distributions={'bootstrap': [True, False],\n",
       "                                        'max_depth': <scipy.stats._distn_infrastructure.rv_discrete_frozen object at 0x14926f3a0>,\n",
       "                                        'max_features': <scipy.stats._distn_infrastructure.rv_discrete_frozen object at 0x10846b6d0>,\n",
       "                                        'min_samples_leaf': <scipy.stats._distn_infrastructure.rv_discrete_frozen object at 0x14926fe80>,\n",
       "                                        'min_samples_split': <scipy.stats._distn_infrastructure.rv_discrete_frozen object at 0x14926e320>,\n",
       "                                        'n_estimators': <scipy.stats._distn_infrastructure.rv_discrete_frozen object at 0x14926f7c0>},\n",
       "                   random_state=42)"
      ]
     },
     "execution_count": 17,
     "metadata": {},
     "output_type": "execute_result"
    }
   ],
   "source": [
    "# Perform the random search\n",
    "random_search = RandomizedSearchCV(rf, param_distributions=param_dist, n_iter= 30, n_jobs=-1, cv=5, random_state=42)\n",
    "random_search.fit(X_train, y_train)"
   ]
  },
  {
   "cell_type": "code",
   "execution_count": 18,
   "id": "ef6a2b30",
   "metadata": {},
   "outputs": [
    {
     "name": "stdout",
     "output_type": "stream",
     "text": [
      "Best hyperparameters: {'bootstrap': True, 'max_depth': 15, 'max_features': 8, 'min_samples_leaf': 7, 'min_samples_split': 12, 'n_estimators': 137}\n"
     ]
    }
   ],
   "source": [
    "# Print the best hyperparameters found\n",
    "print('Best hyperparameters:', random_search.best_params_)"
   ]
  },
  {
   "cell_type": "code",
   "execution_count": 19,
   "id": "8b03e889",
   "metadata": {},
   "outputs": [],
   "source": [
    "# Fit the model with the best hyperparameters and make predictions on the test set\n",
    "rf_best = RandomForestClassifier(**random_search.best_params_)\n",
    "rf_best.fit(X_train, y_train)\n",
    "y_pred = rf_best.predict(X_test)"
   ]
  },
  {
   "cell_type": "code",
   "execution_count": 21,
   "id": "9276d27f",
   "metadata": {},
   "outputs": [
    {
     "name": "stdout",
     "output_type": "stream",
     "text": [
      "Precision: 0.7874306839186691\n",
      "Recall: 0.6938110749185668\n",
      "F1 score: 0.7376623376623376\n",
      "ROC-AUC score: 0.7998081687687949\n",
      "              precision    recall  f1-score   support\n",
      "\n",
      "           0       0.85      0.91      0.88      9767\n",
      "           1       0.79      0.69      0.74      4912\n",
      "\n",
      "    accuracy                           0.83     14679\n",
      "   macro avg       0.82      0.80      0.81     14679\n",
      "weighted avg       0.83      0.83      0.83     14679\n",
      "\n"
     ]
    }
   ],
   "source": [
    "\n",
    "# Evaluate the model's performance on the test set\n",
    "print('Precision:', precision_score(y_test, y_pred))\n",
    "print('Recall:', recall_score(y_test, y_pred))\n",
    "print('F1 score:', f1_score(y_test, y_pred))\n",
    "print('ROC-AUC score:', roc_auc_score(y_test, y_pred))\n",
    "print(classification_report(y_test, y_pred))\n"
   ]
  },
  {
   "cell_type": "markdown",
   "id": "621da778",
   "metadata": {},
   "source": [
    "> <p style=\" color:#032652 ; font-family:'Times New Roman'; font-size: 18px ;text-align: justify \">Support Vector Classifier</p>"
   ]
  },
  {
   "cell_type": "markdown",
   "id": "cf2e7c23",
   "metadata": {},
   "source": [
    " <p style=\" color:#032652 ; font-family:'Times New Roman'; font-size: 17px ;text-align: justify \">Support Vector Classifier (SVC)  tries to find the best possible boundary that can separate the churn and non-churned customers in the dataset by maximizing the margin between the two classes.. By using grid search hyperparameter tuning for SVC, we can fine-tune the model and select the optimal values of hyperparameters such as kernel type, regularization parameter, and gamma to achieve the best possible performance for churn prediction.</p>\n"
   ]
  },
  {
   "cell_type": "code",
   "execution_count": 13,
   "id": "f619f703",
   "metadata": {},
   "outputs": [],
   "source": [
    "# Defining parameter grid for GridSearchCV\n",
    "param_grid = {'C':  [10, 1.0, 0.1, 0.01], \n",
    "              'gamma': [1,0.1,0.01, 0.001],\n",
    "              'kernel': ['linear','rbf', 'poly', 'sigmoid']}"
   ]
  },
  {
   "cell_type": "code",
   "execution_count": 14,
   "id": "d30d4cdc",
   "metadata": {},
   "outputs": [],
   "source": [
    "svc = SVC()"
   ]
  },
  {
   "cell_type": "code",
   "execution_count": null,
   "id": "42d1af63",
   "metadata": {},
   "outputs": [],
   "source": [
    "cv = RepeatedStratifiedKFold(n_splits=5, n_repeats=3, random_state=1)\n",
    "# Initializing GridSearchCV object\n",
    "grid_search = GridSearchCV(svc, param_grid, cv=cv, scoring='f1')\n",
    "grid_search.fit(X_train, y_train)"
   ]
  },
  {
   "cell_type": "code",
   "execution_count": null,
   "id": "2969a012",
   "metadata": {},
   "outputs": [],
   "source": [
    "# Get the best hyperparameters\n",
    "best_params = grid_search.best_params_"
   ]
  },
  {
   "cell_type": "code",
   "execution_count": null,
   "id": "6d1468c0",
   "metadata": {},
   "outputs": [],
   "source": [
    "# Create a new instance of the SVC model with the best hyperparameters\n",
    "svc_model_best = SVC(**best_params)"
   ]
  },
  {
   "cell_type": "code",
   "execution_count": null,
   "id": "52580284",
   "metadata": {},
   "outputs": [],
   "source": [
    "# Fit the model on the training data using the best hyperparameters\n",
    "svc_model_best.fit(X_train, y_train)"
   ]
  },
  {
   "cell_type": "code",
   "execution_count": null,
   "id": "52083175",
   "metadata": {},
   "outputs": [],
   "source": [
    "# Make predictions on the test data using the fitted model\n",
    "y_pred = svc_model_best.predict(X_test)"
   ]
  },
  {
   "cell_type": "code",
   "execution_count": null,
   "id": "367ea039",
   "metadata": {},
   "outputs": [],
   "source": [
    "# Evaluate the performance of the model on the test set\n",
    "precision = precision_score(y_test, y_pred)\n",
    "recall = recall_score(y_test, y_pred)\n",
    "f1 = f1_score(y_test, y_pred)\n",
    "confusion_matrix = confusion_matrix(y_test, y_pred)\n",
    "classification_report = classification_report(y_test, y_pred)\n",
    "\n",
    "\n",
    "print('Precision:', precision)\n",
    "print('Recall:', recall)\n",
    "print('F1 Score:', f1)\n",
    "print('confusion_matrix:', confusion_matrix)\n",
    "print('classification_report:', classification_report)"
   ]
  },
  {
   "cell_type": "markdown",
   "id": "6822b0f3",
   "metadata": {},
   "source": [
    "> <p style=\" color:#032652 ; font-family:'Times New Roman'; font-size: 18px ;text-align: justify \">Decsion Trees</p>"
   ]
  },
  {
   "cell_type": "markdown",
   "id": "4a40e6cb",
   "metadata": {},
   "source": [
    " <p style=\" color:#032652 ; font-family:'Times New Roman'; font-size: 17px ;text-align: justify \">Grid search hyper parameter tuning is used with decision tree classifiers to find the optimal values for hyperparameters such as the maximum depth of the tree, the minimum number of samples required to split an internal node, and the minimum number of samples required to be at a leaf node</p>"
   ]
  },
  {
   "cell_type": "code",
   "execution_count": 20,
   "id": "a7330e2b",
   "metadata": {},
   "outputs": [],
   "source": [
    "# Define the decision tree classifier\n",
    "dt = DecisionTreeClassifier(random_state=42)"
   ]
  },
  {
   "cell_type": "code",
   "execution_count": 21,
   "id": "7916f2f2",
   "metadata": {},
   "outputs": [],
   "source": [
    "from sklearn.model_selection import GridSearchCV"
   ]
  },
  {
   "cell_type": "code",
   "execution_count": 22,
   "id": "7467bb53",
   "metadata": {},
   "outputs": [],
   "source": [
    "# Create the parameter grid based on the results of random search \n",
    "params = {\n",
    "    'max_depth': [2, 3, 5, 10, 20],\n",
    "    'min_samples_leaf': [5, 10, 20, 50, 100],\n",
    "    'criterion': [\"gini\", \"entropy\"]\n",
    "}"
   ]
  },
  {
   "cell_type": "code",
   "execution_count": 23,
   "id": "fb5ce95e",
   "metadata": {},
   "outputs": [],
   "source": [
    "grid_search = GridSearchCV(estimator=dt, param_grid=params, cv=5, n_jobs=-1, verbose=1, scoring = \"f1\")"
   ]
  },
  {
   "cell_type": "code",
   "execution_count": 24,
   "id": "56d8d3e3",
   "metadata": {},
   "outputs": [
    {
     "name": "stdout",
     "output_type": "stream",
     "text": [
      "Fitting 5 folds for each of 50 candidates, totalling 250 fits\n"
     ]
    },
    {
     "data": {
      "text/html": [
       "<style>#sk-container-id-1 {color: black;background-color: white;}#sk-container-id-1 pre{padding: 0;}#sk-container-id-1 div.sk-toggleable {background-color: white;}#sk-container-id-1 label.sk-toggleable__label {cursor: pointer;display: block;width: 100%;margin-bottom: 0;padding: 0.3em;box-sizing: border-box;text-align: center;}#sk-container-id-1 label.sk-toggleable__label-arrow:before {content: \"▸\";float: left;margin-right: 0.25em;color: #696969;}#sk-container-id-1 label.sk-toggleable__label-arrow:hover:before {color: black;}#sk-container-id-1 div.sk-estimator:hover label.sk-toggleable__label-arrow:before {color: black;}#sk-container-id-1 div.sk-toggleable__content {max-height: 0;max-width: 0;overflow: hidden;text-align: left;background-color: #f0f8ff;}#sk-container-id-1 div.sk-toggleable__content pre {margin: 0.2em;color: black;border-radius: 0.25em;background-color: #f0f8ff;}#sk-container-id-1 input.sk-toggleable__control:checked~div.sk-toggleable__content {max-height: 200px;max-width: 100%;overflow: auto;}#sk-container-id-1 input.sk-toggleable__control:checked~label.sk-toggleable__label-arrow:before {content: \"▾\";}#sk-container-id-1 div.sk-estimator input.sk-toggleable__control:checked~label.sk-toggleable__label {background-color: #d4ebff;}#sk-container-id-1 div.sk-label input.sk-toggleable__control:checked~label.sk-toggleable__label {background-color: #d4ebff;}#sk-container-id-1 input.sk-hidden--visually {border: 0;clip: rect(1px 1px 1px 1px);clip: rect(1px, 1px, 1px, 1px);height: 1px;margin: -1px;overflow: hidden;padding: 0;position: absolute;width: 1px;}#sk-container-id-1 div.sk-estimator {font-family: monospace;background-color: #f0f8ff;border: 1px dotted black;border-radius: 0.25em;box-sizing: border-box;margin-bottom: 0.5em;}#sk-container-id-1 div.sk-estimator:hover {background-color: #d4ebff;}#sk-container-id-1 div.sk-parallel-item::after {content: \"\";width: 100%;border-bottom: 1px solid gray;flex-grow: 1;}#sk-container-id-1 div.sk-label:hover label.sk-toggleable__label {background-color: #d4ebff;}#sk-container-id-1 div.sk-serial::before {content: \"\";position: absolute;border-left: 1px solid gray;box-sizing: border-box;top: 0;bottom: 0;left: 50%;z-index: 0;}#sk-container-id-1 div.sk-serial {display: flex;flex-direction: column;align-items: center;background-color: white;padding-right: 0.2em;padding-left: 0.2em;position: relative;}#sk-container-id-1 div.sk-item {position: relative;z-index: 1;}#sk-container-id-1 div.sk-parallel {display: flex;align-items: stretch;justify-content: center;background-color: white;position: relative;}#sk-container-id-1 div.sk-item::before, #sk-container-id-1 div.sk-parallel-item::before {content: \"\";position: absolute;border-left: 1px solid gray;box-sizing: border-box;top: 0;bottom: 0;left: 50%;z-index: -1;}#sk-container-id-1 div.sk-parallel-item {display: flex;flex-direction: column;z-index: 1;position: relative;background-color: white;}#sk-container-id-1 div.sk-parallel-item:first-child::after {align-self: flex-end;width: 50%;}#sk-container-id-1 div.sk-parallel-item:last-child::after {align-self: flex-start;width: 50%;}#sk-container-id-1 div.sk-parallel-item:only-child::after {width: 0;}#sk-container-id-1 div.sk-dashed-wrapped {border: 1px dashed gray;margin: 0 0.4em 0.5em 0.4em;box-sizing: border-box;padding-bottom: 0.4em;background-color: white;}#sk-container-id-1 div.sk-label label {font-family: monospace;font-weight: bold;display: inline-block;line-height: 1.2em;}#sk-container-id-1 div.sk-label-container {text-align: center;}#sk-container-id-1 div.sk-container {/* jupyter's `normalize.less` sets `[hidden] { display: none; }` but bootstrap.min.css set `[hidden] { display: none !important; }` so we also need the `!important` here to be able to override the default hidden behavior on the sphinx rendered scikit-learn.org. See: https://github.com/scikit-learn/scikit-learn/issues/21755 */display: inline-block !important;position: relative;}#sk-container-id-1 div.sk-text-repr-fallback {display: none;}</style><div id=\"sk-container-id-1\" class=\"sk-top-container\"><div class=\"sk-text-repr-fallback\"><pre>GridSearchCV(cv=5, estimator=DecisionTreeClassifier(random_state=42), n_jobs=-1,\n",
       "             param_grid={&#x27;criterion&#x27;: [&#x27;gini&#x27;, &#x27;entropy&#x27;],\n",
       "                         &#x27;max_depth&#x27;: [2, 3, 5, 10, 20],\n",
       "                         &#x27;min_samples_leaf&#x27;: [5, 10, 20, 50, 100]},\n",
       "             scoring=&#x27;f1&#x27;, verbose=1)</pre><b>In a Jupyter environment, please rerun this cell to show the HTML representation or trust the notebook. <br />On GitHub, the HTML representation is unable to render, please try loading this page with nbviewer.org.</b></div><div class=\"sk-container\" hidden><div class=\"sk-item sk-dashed-wrapped\"><div class=\"sk-label-container\"><div class=\"sk-label sk-toggleable\"><input class=\"sk-toggleable__control sk-hidden--visually\" id=\"sk-estimator-id-1\" type=\"checkbox\" ><label for=\"sk-estimator-id-1\" class=\"sk-toggleable__label sk-toggleable__label-arrow\">GridSearchCV</label><div class=\"sk-toggleable__content\"><pre>GridSearchCV(cv=5, estimator=DecisionTreeClassifier(random_state=42), n_jobs=-1,\n",
       "             param_grid={&#x27;criterion&#x27;: [&#x27;gini&#x27;, &#x27;entropy&#x27;],\n",
       "                         &#x27;max_depth&#x27;: [2, 3, 5, 10, 20],\n",
       "                         &#x27;min_samples_leaf&#x27;: [5, 10, 20, 50, 100]},\n",
       "             scoring=&#x27;f1&#x27;, verbose=1)</pre></div></div></div><div class=\"sk-parallel\"><div class=\"sk-parallel-item\"><div class=\"sk-item\"><div class=\"sk-label-container\"><div class=\"sk-label sk-toggleable\"><input class=\"sk-toggleable__control sk-hidden--visually\" id=\"sk-estimator-id-2\" type=\"checkbox\" ><label for=\"sk-estimator-id-2\" class=\"sk-toggleable__label sk-toggleable__label-arrow\">estimator: DecisionTreeClassifier</label><div class=\"sk-toggleable__content\"><pre>DecisionTreeClassifier(random_state=42)</pre></div></div></div><div class=\"sk-serial\"><div class=\"sk-item\"><div class=\"sk-estimator sk-toggleable\"><input class=\"sk-toggleable__control sk-hidden--visually\" id=\"sk-estimator-id-3\" type=\"checkbox\" ><label for=\"sk-estimator-id-3\" class=\"sk-toggleable__label sk-toggleable__label-arrow\">DecisionTreeClassifier</label><div class=\"sk-toggleable__content\"><pre>DecisionTreeClassifier(random_state=42)</pre></div></div></div></div></div></div></div></div></div></div>"
      ],
      "text/plain": [
       "GridSearchCV(cv=5, estimator=DecisionTreeClassifier(random_state=42), n_jobs=-1,\n",
       "             param_grid={'criterion': ['gini', 'entropy'],\n",
       "                         'max_depth': [2, 3, 5, 10, 20],\n",
       "                         'min_samples_leaf': [5, 10, 20, 50, 100]},\n",
       "             scoring='f1', verbose=1)"
      ]
     },
     "execution_count": 24,
     "metadata": {},
     "output_type": "execute_result"
    }
   ],
   "source": [
    "grid_search.fit(X_train, y_train)"
   ]
  },
  {
   "cell_type": "code",
   "execution_count": 25,
   "id": "056a5260",
   "metadata": {},
   "outputs": [
    {
     "name": "stdout",
     "output_type": "stream",
     "text": [
      "Best Hyperparameters: {'criterion': 'entropy', 'max_depth': 10, 'min_samples_leaf': 20}\n",
      "Best Score: 0.7308942178549648\n"
     ]
    }
   ],
   "source": [
    "# Print the best hyperparameters and their corresponding score\n",
    "print(\"Best Hyperparameters:\", grid_search.best_params_)\n",
    "print(\"Best Score:\", grid_search.best_score_)"
   ]
  },
  {
   "cell_type": "code",
   "execution_count": 26,
   "id": "e5c49cdb",
   "metadata": {},
   "outputs": [],
   "source": [
    "# Fit the classifier using the best hyperparameters and predict on test data\n",
    "dt_best = DecisionTreeClassifier(random_state=42, **grid_search.best_params_)\n",
    "dt_best.fit(X_train, y_train)\n",
    "y_pred = dt_best.predict(X_test)"
   ]
  },
  {
   "cell_type": "code",
   "execution_count": 27,
   "id": "843417c6",
   "metadata": {},
   "outputs": [
    {
     "name": "stdout",
     "output_type": "stream",
     "text": [
      "              precision    recall  f1-score   support\n",
      "\n",
      "           0       0.84      0.90      0.87      9767\n",
      "           1       0.77      0.65      0.71      4912\n",
      "\n",
      "    accuracy                           0.82     14679\n",
      "   macro avg       0.80      0.78      0.79     14679\n",
      "weighted avg       0.82      0.82      0.81     14679\n",
      "\n"
     ]
    }
   ],
   "source": [
    "# Print the classification report\n",
    "print(classification_report(y_test, y_pred))"
   ]
  },
  {
   "cell_type": "markdown",
   "id": "fb1c1fc3",
   "metadata": {},
   "source": [
    "> <p style=\" color:#032652 ; font-family:'Times New Roman'; font-size: 18px ;text-align: justify \">Gradient Boosting</p>"
   ]
  },
  {
   "cell_type": "markdown",
   "id": "aa258a07",
   "metadata": {},
   "source": [
    "<p style=\" color:#032652 ; font-family:'Times New Roman'; font-size: 17px ;text-align: justify \">The Gradient Boosting Classifier is an algorithm that builds a series of decision trees iteratively, correcting the mistakes of the previous ones. It is highly accurate and can handle complex non-linear relationships in data, making it a good choice for churn prediction. It is also robust against overfitting, and can handle missing values and outliers in data. To optimize the performance of the model, we will use Grid Search method for hyper parameter tuning.</p>"
   ]
  },
  {
   "cell_type": "code",
   "execution_count": 13,
   "id": "1f586450",
   "metadata": {},
   "outputs": [],
   "source": [
    "# Defining the model\n",
    "gbm = GradientBoostingClassifier()"
   ]
  },
  {
   "cell_type": "code",
   "execution_count": 14,
   "id": "1c5a3312",
   "metadata": {},
   "outputs": [],
   "source": [
    "# Defining the hyperparameters grid for GridSearchCV\n",
    "param_grid = {\n",
    "    'n_estimators': [100, 200, 300],\n",
    "    'learning_rate': [0.01, 0.05, 0.1],\n",
    "    'max_depth': [3, 5, 7],\n",
    "    'min_samples_split': [2, 4, 6],\n",
    "    'min_samples_leaf': [1, 2, 4]\n",
    "}\n"
   ]
  },
  {
   "cell_type": "code",
   "execution_count": 15,
   "id": "dfed7fa5",
   "metadata": {},
   "outputs": [],
   "source": [
    "# Creating the GridSearchCV object\n",
    "gbm_grid = GridSearchCV(gbm, param_grid=param_grid, scoring = \"f1\", cv=5, n_jobs=-1)\n"
   ]
  },
  {
   "cell_type": "code",
   "execution_count": null,
   "id": "1427da63",
   "metadata": {},
   "outputs": [],
   "source": [
    "# Fitting the model with the best hyperparameters\n",
    "gbm_grid.fit(X_train, y_train)"
   ]
  },
  {
   "cell_type": "code",
   "execution_count": null,
   "id": "18cfe7a2",
   "metadata": {},
   "outputs": [],
   "source": [
    "# Getting the best parameters and the best score\n",
    "print(\"Best parameters: \", gbm_grid.best_params_)\n",
    "print(\"Best score: \", gbm_grid.best_score_)"
   ]
  },
  {
   "cell_type": "code",
   "execution_count": null,
   "id": "be7f4790",
   "metadata": {},
   "outputs": [],
   "source": [
    "\n",
    "# Predicting on the test set with the best model\n",
    "y_pred = gbm_grid.predict(X_test)\n"
   ]
  },
  {
   "cell_type": "code",
   "execution_count": null,
   "id": "26f8af0e",
   "metadata": {},
   "outputs": [],
   "source": [
    "# Calculating the accuracy, precision, recall, and F1 score\n",
    "precision = precision_score(y_test, y_pred)\n",
    "recall = recall_score(y_test, y_pred)\n",
    "f1 = f1_score(y_test, y_pred)\n",
    "\n",
    "# Printing the classification report and the confusion matrix\n",
    "print(\"Classification Report:\\n\", classification_report(y_test, y_pred))\n",
    "print(\"Confusion Matrix:\\n\", confusion_matrix(y_test, y_pred))\n",
    "print(\"Precision: \", precision)\n",
    "print(\"Recall: \", recall)\n",
    "print(\"F1 Score: \", f1)\n"
   ]
  }
 ],
 "metadata": {
  "kernelspec": {
   "display_name": "Python 3 (ipykernel)",
   "language": "python",
   "name": "python3"
  },
  "language_info": {
   "codemirror_mode": {
    "name": "ipython",
    "version": 3
   },
   "file_extension": ".py",
   "mimetype": "text/x-python",
   "name": "python",
   "nbconvert_exporter": "python",
   "pygments_lexer": "ipython3",
   "version": "3.10.10"
  }
 },
 "nbformat": 4,
 "nbformat_minor": 5
}
